{
 "cells": [
  {
   "cell_type": "markdown",
   "id": "1e7d39a6-d00f-47e1-b3f3-26622db63340",
   "metadata": {},
   "source": [
    "## A Community Detection-Based Parallel Algorithm for Quantum Circuit Simulation Using Tensor Networs\n",
    "\n",
    "**Alfred M.Pastor, Jose M. Badia and Maribel Castillo**"
   ]
  },
  {
   "cell_type": "markdown",
   "id": "065ac5df-853a-4dfa-82dc-ab57a5d2d534",
   "metadata": {},
   "source": [
    "En aquest blog inclourem exemples de codi per a poder reproduir l'article com indiquem a: https://github.com/alfred-miquel/A-Community-Detection-Based-Parallel-Algorithm-for-Quantum-Circuit-Simulation-using-Tensor-Networks.git"
   ]
  },
  {
   "cell_type": "markdown",
   "id": "9dd83ad6-2e73-4ed1-bc3b-68ebf7a4d020",
   "metadata": {},
   "source": [
    "*In this notebook, we will include code examples to reproduce the article as indicated in:*\n",
    "https://github.com/alfred-miquel/A-Community-Detection-Based-Parallel-Algorithm-for-Quantum-Circuit-Simulation-using-Tensor-Networks.git"
   ]
  },
  {
   "cell_type": "markdown",
   "id": "bf626c6d-de2b-4c8f-88ba-c891674fce89",
   "metadata": {},
   "source": [
    "Aquest blog ens permetrà reproduir en la Secció 5 les figures 3,4,5\n",
    "\n",
    "*This notebook will allow us to reproduce in Section 5 the figures 3,4,5*"
   ]
  },
  {
   "cell_type": "code",
   "execution_count": 1,
   "id": "470e1962-95cd-4f40-b4c8-0ebdd1ddce4d",
   "metadata": {
    "tags": []
   },
   "outputs": [
    {
     "name": "stderr",
     "output_type": "stream",
     "text": [
      "\u001b[32m\u001b[1m  Activating\u001b[22m\u001b[39m project at `C:\\Users\\Usuario\\OneDrive\\Escriptori\\anaconda_blogs\\agost_2023\\Novembre_desembre_2024\\GitHub_resum_article_Costa_Ballena\\QXTools`\n"
     ]
    }
   ],
   "source": [
    "] activate QXTools;"
   ]
  },
  {
   "cell_type": "markdown",
   "id": "9bd103fe-2b31-4a3c-af5b-7913fc4b2d8a",
   "metadata": {},
   "source": [
    "### 0. Required software"
   ]
  },
  {
   "cell_type": "markdown",
   "id": "a21f0bed-57f7-4a24-a2ec-1dfaf8904397",
   "metadata": {},
   "source": [
    "Si en la teua instal·lació necessites mes paquets de software, pots carregar-los de la mateixa forma que indiquem ací\n",
    "\n",
    "*If you need more software packages in your installation, you can load them in the same way as indicated here*"
   ]
  },
  {
   "cell_type": "code",
   "execution_count": 3,
   "id": "ef72ff71-6901-4b0a-bdf4-56a8d27a4904",
   "metadata": {
    "collapsed": true,
    "jupyter": {
     "outputs_hidden": true
    },
    "tags": []
   },
   "outputs": [
    {
     "name": "stderr",
     "output_type": "stream",
     "text": [
      "\u001b[32m\u001b[1m    Updating\u001b[22m\u001b[39m registry at `C:\\Users\\Usuario\\.julia\\registries\\General.toml`\n",
      "\u001b[32m\u001b[1m   Resolving\u001b[22m\u001b[39m package versions...\n",
      "\u001b[32m\u001b[1m   Installed\u001b[22m\u001b[39m Blosc_jll ──────── v1.21.6+0\n",
      "\u001b[32m\u001b[1m   Installed\u001b[22m\u001b[39m MicrosoftMPI_jll ─ v10.1.4+3\n",
      "\u001b[32m\u001b[1m   Installed\u001b[22m\u001b[39m SpecialFunctions ─ v2.5.0\n",
      "\u001b[32m\u001b[1m   Installed\u001b[22m\u001b[39m OpenMPI_jll ────── v5.0.6+0\n",
      "\u001b[32m\u001b[1m    Updating\u001b[22m\u001b[39m `C:\\Users\\Usuario\\OneDrive\\Escriptori\\anaconda_blogs\\agost_2023\\Novembre_desembre_2024\\GitHub_resum_article_Costa_Ballena\\QXTools\\Project.toml`\n",
      "  \u001b[90m[84f0eee1] \u001b[39m\u001b[92m+ QXTools v1.0.0\u001b[39m\n",
      "\u001b[32m\u001b[1m    Updating\u001b[22m\u001b[39m `C:\\Users\\Usuario\\OneDrive\\Escriptori\\anaconda_blogs\\agost_2023\\Novembre_desembre_2024\\GitHub_resum_article_Costa_Ballena\\QXTools\\Manifest.toml`\n",
      "  \u001b[90m[621f4979] \u001b[39m\u001b[92m+ AbstractFFTs v1.5.0\u001b[39m\n",
      "\u001b[33m⌅\u001b[39m \u001b[90m[1520ce14] \u001b[39m\u001b[92m+ AbstractTrees v0.3.4\u001b[39m\n",
      "\u001b[33m⌅\u001b[39m \u001b[90m[79e6a3ab] \u001b[39m\u001b[92m+ Adapt v3.7.2\u001b[39m\n",
      "  \u001b[90m[c7e460c6] \u001b[39m\u001b[92m+ ArgParse v1.2.0\u001b[39m\n",
      "\u001b[33m⌅\u001b[39m \u001b[90m[ec485272] \u001b[39m\u001b[92m+ ArnoldiMethod v0.1.0\u001b[39m\n",
      "\u001b[33m⌅\u001b[39m \u001b[90m[ab4f0b2a] \u001b[39m\u001b[92m+ BFloat16s v0.2.0\u001b[39m\n",
      "  \u001b[90m[a9ab73d0] \u001b[39m\u001b[92m+ BatchedRoutines v0.2.2\u001b[39m\n",
      "  \u001b[90m[a74b3585] \u001b[39m\u001b[92m+ Blosc v0.7.3\u001b[39m\n",
      "\u001b[33m⌅\u001b[39m \u001b[90m[fa961155] \u001b[39m\u001b[92m+ CEnum v0.4.2\u001b[39m\n",
      "\u001b[33m⌅\u001b[39m \u001b[90m[052768ef] \u001b[39m\u001b[92m+ CUDA v3.13.1\u001b[39m\n",
      "  \u001b[90m[d360d2e6] \u001b[39m\u001b[92m+ ChainRulesCore v1.25.0\u001b[39m\n",
      "  \u001b[90m[861a8166] \u001b[39m\u001b[92m+ Combinatorics v1.0.2\u001b[39m\n",
      "\u001b[33m⌅\u001b[39m \u001b[90m[34da2185] \u001b[39m\u001b[92m+ Compat v3.47.0\u001b[39m\n",
      "  \u001b[90m[864edb3b] \u001b[39m\u001b[92m+ DataStructures v0.18.20\u001b[39m\n",
      "  \u001b[90m[ab62b9b5] \u001b[39m\u001b[92m+ DeepDiffs v1.2.0\u001b[39m\n",
      "  \u001b[90m[8bb1440f] \u001b[39m\u001b[92m+ DelimitedFiles v1.9.1\u001b[39m\n",
      "\u001b[33m⌅\u001b[39m \u001b[90m[85a47980] \u001b[39m\u001b[92m+ Dictionaries v0.3.29\u001b[39m\n",
      "\u001b[33m⌅\u001b[39m \u001b[90m[ffbed154] \u001b[39m\u001b[92m+ DocStringExtensions v0.8.6\u001b[39m\n",
      "  \u001b[90m[e2ba6199] \u001b[39m\u001b[92m+ ExprTools v0.1.10\u001b[39m\n",
      "  \u001b[90m[5789e2e9] \u001b[39m\u001b[92m+ FileIO v1.16.6\u001b[39m\n",
      "\u001b[33m⌅\u001b[39m \u001b[90m[0c68f7d7] \u001b[39m\u001b[92m+ GPUArrays v8.8.1\u001b[39m\n",
      "\u001b[33m⌅\u001b[39m \u001b[90m[46192b85] \u001b[39m\u001b[92m+ GPUArraysCore v0.1.5\u001b[39m\n",
      "\u001b[33m⌅\u001b[39m \u001b[90m[61eb1bfa] \u001b[39m\u001b[92m+ GPUCompiler v0.17.3\u001b[39m\n",
      "\u001b[33m⌅\u001b[39m \u001b[90m[f67ccb44] \u001b[39m\u001b[92m+ HDF5 v0.14.1\u001b[39m\n",
      "\u001b[33m⌅\u001b[39m \u001b[90m[9136182c] \u001b[39m\u001b[92m+ ITensors v0.1.41\u001b[39m\n",
      "  \u001b[90m[313cdc1a] \u001b[39m\u001b[92m+ Indexing v1.1.1\u001b[39m\n",
      "  \u001b[90m[d25df0c9] \u001b[39m\u001b[92m+ Inflate v0.1.5\u001b[39m\n",
      "  \u001b[90m[92d709cd] \u001b[39m\u001b[92m+ IrrationalConstants v0.2.2\u001b[39m\n",
      "\u001b[33m⌅\u001b[39m \u001b[90m[033835bb] \u001b[39m\u001b[92m+ JLD2 v0.4.53\u001b[39m\n",
      "  \u001b[90m[692b3bcd] \u001b[39m\u001b[92m+ JLLWrappers v1.6.1\u001b[39m\n",
      "\u001b[33m⌅\u001b[39m \u001b[90m[0b1a1467] \u001b[39m\u001b[92m+ KrylovKit v0.5.4\u001b[39m\n",
      "\u001b[33m⌅\u001b[39m \u001b[90m[929cbde3] \u001b[39m\u001b[92m+ LLVM v4.17.1\u001b[39m\n",
      "  \u001b[90m[8ac3fa9e] \u001b[39m\u001b[92m+ LRUCache v1.6.1\u001b[39m\n",
      "  \u001b[90m[50d2b5c4] \u001b[39m\u001b[92m+ Lazy v0.15.1\u001b[39m\n",
      "  \u001b[90m[093fc24a] \u001b[39m\u001b[92m+ LightGraphs v1.3.5\u001b[39m\n",
      "\u001b[33m⌅\u001b[39m \u001b[90m[2ab3a3ac] \u001b[39m\u001b[92m+ LogExpFunctions v0.3.28\u001b[39m\n",
      "\u001b[33m⌅\u001b[39m \u001b[90m[da04e1cc] \u001b[39m\u001b[92m+ MPI v0.19.2\u001b[39m\n",
      "  \u001b[90m[3da0fdf6] \u001b[39m\u001b[92m+ MPIPreferences v0.1.11\u001b[39m\n",
      "  \u001b[90m[1914dd2f] \u001b[39m\u001b[92m+ MacroTools v0.5.13\u001b[39m\n",
      "\u001b[33m⌅\u001b[39m \u001b[90m[23ae76d9] \u001b[39m\u001b[92m+ NDTensors v0.1.28\u001b[39m\n",
      "\u001b[33m⌅\u001b[39m \u001b[90m[ebe7aa44] \u001b[39m\u001b[92m+ OMEinsum v0.6.13\u001b[39m\n",
      "  \u001b[90m[bac558e1] \u001b[39m\u001b[92m+ OrderedCollections v1.7.0\u001b[39m\n",
      "\u001b[33m⌅\u001b[39m \u001b[90m[9b87118b] \u001b[39m\u001b[92m+ PackageCompiler v1.7.7\u001b[39m\n",
      "  \u001b[90m[aea7be01] \u001b[39m\u001b[92m+ PrecompileTools v1.2.1\u001b[39m\n",
      "  \u001b[90m[21216c6a] \u001b[39m\u001b[92m+ Preferences v1.4.3\u001b[39m\n",
      "  \u001b[90m[04c26001] \u001b[39m\u001b[92m+ QXContexts v1.0.0\u001b[39m\n",
      "  \u001b[90m[b15f1ded] \u001b[39m\u001b[92m+ QXGraphDecompositions v1.0.0\u001b[39m\n",
      "  \u001b[90m[995e1dad] \u001b[39m\u001b[92m+ QXTns v1.0.0\u001b[39m\n",
      "  \u001b[90m[84f0eee1] \u001b[39m\u001b[92m+ QXTools v1.0.0\u001b[39m\n",
      "  \u001b[90m[f27fdc93] \u001b[39m\u001b[92m+ QXZoo v1.0.0\u001b[39m\n",
      "  \u001b[90m[74087812] \u001b[39m\u001b[92m+ Random123 v1.7.0\u001b[39m\n",
      "  \u001b[90m[e6cf234a] \u001b[39m\u001b[92m+ RandomNumbers v1.6.0\u001b[39m\n",
      "  \u001b[90m[189a3867] \u001b[39m\u001b[92m+ Reexport v1.2.2\u001b[39m\n",
      "\u001b[33m⌅\u001b[39m \u001b[90m[05181044] \u001b[39m\u001b[92m+ RelocatableFolders v0.1.3\u001b[39m\n",
      "  \u001b[90m[ae029012] \u001b[39m\u001b[92m+ Requires v1.3.0\u001b[39m\n",
      "  \u001b[90m[6c6a2e73] \u001b[39m\u001b[92m+ Scratch v1.2.1\u001b[39m\n",
      "  \u001b[90m[699a6c99] \u001b[39m\u001b[92m+ SimpleTraits v0.9.4\u001b[39m\n",
      "  \u001b[90m[276daf66] \u001b[39m\u001b[92m+ SpecialFunctions v2.5.0\u001b[39m\n",
      "  \u001b[90m[90137ffa] \u001b[39m\u001b[92m+ StaticArrays v1.9.8\u001b[39m\n",
      "  \u001b[90m[1e83bf80] \u001b[39m\u001b[92m+ StaticArraysCore v1.4.3\u001b[39m\n",
      "\u001b[33m⌅\u001b[39m \u001b[90m[5e0ebb24] \u001b[39m\u001b[92m+ Strided v1.2.3\u001b[39m\n",
      "  \u001b[90m[69024149] \u001b[39m\u001b[92m+ StringEncodings v0.3.7\u001b[39m\n",
      "\u001b[33m⌅\u001b[39m \u001b[90m[6aa20fa7] \u001b[39m\u001b[92m+ TensorOperations v3.2.5\u001b[39m\n",
      "\u001b[33m⌅\u001b[39m \u001b[90m[98d24dd4] \u001b[39m\u001b[92m+ TestSetExtensions v2.0.0\u001b[39m\n",
      "  \u001b[90m[b718987f] \u001b[39m\u001b[92m+ TextWrap v1.0.2\u001b[39m\n",
      "\u001b[33m⌅\u001b[39m \u001b[90m[a759f4b9] \u001b[39m\u001b[92m+ TimerOutputs v0.5.25\u001b[39m\n",
      "  \u001b[90m[3bb67fe8] \u001b[39m\u001b[92m+ TranscodingStreams v0.11.3\u001b[39m\n",
      "  \u001b[90m[9d95972d] \u001b[39m\u001b[92m+ TupleTools v1.6.0\u001b[39m\n",
      "  \u001b[90m[ddb6d928] \u001b[39m\u001b[92m+ YAML v0.4.12\u001b[39m\n",
      "  \u001b[90m[0b7ba130] \u001b[39m\u001b[92m+ Blosc_jll v1.21.6+0\u001b[39m\n",
      "  \u001b[90m[008204e2] \u001b[39m\u001b[92m+ FlowCutterPACE17_jll v0.0.1+0\u001b[39m\n",
      "\u001b[32m⌃\u001b[39m \u001b[90m[0234f1f7] \u001b[39m\u001b[92m+ HDF5_jll v1.14.2+1\u001b[39m\n",
      "  \u001b[90m[e33a78d0] \u001b[39m\u001b[92m+ Hwloc_jll v2.11.2+1\u001b[39m\n",
      "\u001b[33m⌅\u001b[39m \u001b[90m[dad2f222] \u001b[39m\u001b[92m+ LLVMExtra_jll v0.0.18+0\u001b[39m\n",
      "  \u001b[90m[1d63c593] \u001b[39m\u001b[92m+ LLVMOpenMP_jll v18.1.7+0\u001b[39m\n",
      "  \u001b[90m[94ce4f54] \u001b[39m\u001b[92m+ Libiconv_jll v1.17.0+1\u001b[39m\n",
      "  \u001b[90m[5ced341a] \u001b[39m\u001b[92m+ Lz4_jll v1.10.0+1\u001b[39m\n",
      "  \u001b[90m[7cb0a576] \u001b[39m\u001b[92m+ MPICH_jll v4.2.3+0\u001b[39m\n",
      "  \u001b[90m[f1f71cc9] \u001b[39m\u001b[92m+ MPItrampoline_jll v5.5.1+0\u001b[39m\n",
      "  \u001b[90m[9237b28f] \u001b[39m\u001b[92m+ MicrosoftMPI_jll v10.1.4+3\u001b[39m\n",
      "  \u001b[90m[fe0851c0] \u001b[39m\u001b[92m+ OpenMPI_jll v5.0.6+0\u001b[39m\n",
      "  \u001b[90m[458c3c95] \u001b[39m\u001b[92m+ OpenSSL_jll v3.0.15+1\u001b[39m\n",
      "  \u001b[90m[efe28fd5] \u001b[39m\u001b[92m+ OpenSpecFun_jll v0.5.5+0\u001b[39m\n",
      "  \u001b[90m[3161d3a3] \u001b[39m\u001b[92m+ Zstd_jll v1.5.6+1\u001b[39m\n",
      "  \u001b[90m[477f73a3] \u001b[39m\u001b[92m+ libaec_jll v1.1.2+0\u001b[39m\n",
      "  \u001b[90m[0dad84c5] \u001b[39m\u001b[92m+ ArgTools v1.1.1\u001b[39m\n",
      "  \u001b[90m[56f22d72] \u001b[39m\u001b[92m+ Artifacts\u001b[39m\n",
      "  \u001b[90m[2a0f44e3] \u001b[39m\u001b[92m+ Base64\u001b[39m\n",
      "  \u001b[90m[ade2ca70] \u001b[39m\u001b[92m+ Dates\u001b[39m\n",
      "  \u001b[90m[8ba89e20] \u001b[39m\u001b[92m+ Distributed\u001b[39m\n",
      "  \u001b[90m[f43a241f] \u001b[39m\u001b[92m+ Downloads v1.6.0\u001b[39m\n",
      "  \u001b[90m[7b1f6079] \u001b[39m\u001b[92m+ FileWatching\u001b[39m\n",
      "  \u001b[90m[b77e0a4c] \u001b[39m\u001b[92m+ InteractiveUtils\u001b[39m\n",
      "  \u001b[90m[4af54fe1] \u001b[39m\u001b[92m+ LazyArtifacts\u001b[39m\n",
      "  \u001b[90m[b27032c2] \u001b[39m\u001b[92m+ LibCURL v0.6.3\u001b[39m\n",
      "  \u001b[90m[76f85450] \u001b[39m\u001b[92m+ LibGit2\u001b[39m\n",
      "  \u001b[90m[8f399da3] \u001b[39m\u001b[92m+ Libdl\u001b[39m\n",
      "  \u001b[90m[37e2e46d] \u001b[39m\u001b[92m+ LinearAlgebra\u001b[39m\n",
      "  \u001b[90m[56ddb016] \u001b[39m\u001b[92m+ Logging\u001b[39m\n",
      "  \u001b[90m[d6f4376e] \u001b[39m\u001b[92m+ Markdown\u001b[39m\n",
      "  \u001b[90m[a63ad114] \u001b[39m\u001b[92m+ Mmap\u001b[39m\n",
      "  \u001b[90m[ca575930] \u001b[39m\u001b[92m+ NetworkOptions v1.2.0\u001b[39m\n",
      "  \u001b[90m[44cfe95a] \u001b[39m\u001b[92m+ Pkg v1.9.2\u001b[39m\n",
      "  \u001b[90m[de0858da] \u001b[39m\u001b[92m+ Printf\u001b[39m\n",
      "  \u001b[90m[3fa0cd96] \u001b[39m\u001b[92m+ REPL\u001b[39m\n",
      "  \u001b[90m[9a3f8284] \u001b[39m\u001b[92m+ Random\u001b[39m\n",
      "  \u001b[90m[ea8e919c] \u001b[39m\u001b[92m+ SHA v0.7.0\u001b[39m\n",
      "  \u001b[90m[9e88b42a] \u001b[39m\u001b[92m+ Serialization\u001b[39m\n",
      "  \u001b[90m[1a1011a3] \u001b[39m\u001b[92m+ SharedArrays\u001b[39m\n",
      "  \u001b[90m[6462fe0b] \u001b[39m\u001b[92m+ Sockets\u001b[39m\n",
      "  \u001b[90m[2f01184e] \u001b[39m\u001b[92m+ SparseArrays\u001b[39m\n",
      "  \u001b[90m[10745b16] \u001b[39m\u001b[92m+ Statistics v1.9.0\u001b[39m\n",
      "  \u001b[90m[fa267f1f] \u001b[39m\u001b[92m+ TOML v1.0.3\u001b[39m\n",
      "  \u001b[90m[a4e569a6] \u001b[39m\u001b[92m+ Tar v1.10.0\u001b[39m\n",
      "  \u001b[90m[8dfed614] \u001b[39m\u001b[92m+ Test\u001b[39m\n",
      "  \u001b[90m[cf7118a7] \u001b[39m\u001b[92m+ UUIDs\u001b[39m\n",
      "  \u001b[90m[4ec0a83e] \u001b[39m\u001b[92m+ Unicode\u001b[39m\n",
      "  \u001b[90m[e66e0078] \u001b[39m\u001b[92m+ CompilerSupportLibraries_jll v1.0.5+0\u001b[39m\n",
      "  \u001b[90m[deac9b47] \u001b[39m\u001b[92m+ LibCURL_jll v7.84.0+0\u001b[39m\n",
      "  \u001b[90m[29816b5a] \u001b[39m\u001b[92m+ LibSSH2_jll v1.10.2+0\u001b[39m\n",
      "  \u001b[90m[c8ffd9c3] \u001b[39m\u001b[92m+ MbedTLS_jll v2.28.2+0\u001b[39m\n",
      "  \u001b[90m[14a3606d] \u001b[39m\u001b[92m+ MozillaCACerts_jll v2022.10.11\u001b[39m\n",
      "  \u001b[90m[4536629a] \u001b[39m\u001b[92m+ OpenBLAS_jll v0.3.21+4\u001b[39m\n",
      "  \u001b[90m[05823500] \u001b[39m\u001b[92m+ OpenLibm_jll v0.8.1+0\u001b[39m\n",
      "  \u001b[90m[bea87d4a] \u001b[39m\u001b[92m+ SuiteSparse_jll v5.10.1+6\u001b[39m\n",
      "  \u001b[90m[83775a58] \u001b[39m\u001b[92m+ Zlib_jll v1.2.13+0\u001b[39m\n",
      "  \u001b[90m[8e850b90] \u001b[39m\u001b[92m+ libblastrampoline_jll v5.8.0+0\u001b[39m\n",
      "  \u001b[90m[8e850ede] \u001b[39m\u001b[92m+ nghttp2_jll v1.48.0+0\u001b[39m\n",
      "  \u001b[90m[3f19e933] \u001b[39m\u001b[92m+ p7zip_jll v17.4.0+0\u001b[39m\n",
      "\u001b[36m\u001b[1m        Info\u001b[22m\u001b[39m Packages marked with \u001b[32m⌃\u001b[39m and \u001b[33m⌅\u001b[39m have new versions available, but those with \u001b[33m⌅\u001b[39m are restricted by compatibility constraints from upgrading. To see why use `status --outdated -m`\n",
      "\u001b[32m\u001b[1mPrecompiling\u001b[22m\u001b[39m project...\n",
      "\u001b[32m  ✓ \u001b[39m\u001b[90mMicrosoftMPI_jll\u001b[39m\n",
      "\u001b[32m  ✓ \u001b[39m\u001b[90mDataStructures\u001b[39m\n",
      "\u001b[32m  ✓ \u001b[39m\u001b[90mOpenMPI_jll\u001b[39m\n",
      "\u001b[32m  ✓ \u001b[39m\u001b[90mStringEncodings\u001b[39m\n",
      "\u001b[32m  ✓ \u001b[39m\u001b[90mStaticArrays → StaticArraysChainRulesCoreExt\u001b[39m\n",
      "\u001b[32m  ✓ \u001b[39m\u001b[90mBlosc_jll\u001b[39m\n",
      "\u001b[32m  ✓ \u001b[39m\u001b[90mMPI\u001b[39m\n",
      "\u001b[32m  ✓ \u001b[39m\u001b[90mSpecialFunctions\u001b[39m\n",
      "\u001b[32m  ✓ \u001b[39m\u001b[90mHDF5_jll\u001b[39m\n",
      "\u001b[32m  ✓ \u001b[39m\u001b[90mYAML\u001b[39m\n",
      "\u001b[32m  ✓ \u001b[39m\u001b[90mBlosc\u001b[39m\n",
      "\u001b[32m  ✓ \u001b[39m\u001b[90mArnoldiMethod\u001b[39m\n",
      "\u001b[32m  ✓ \u001b[39m\u001b[90mSpecialFunctions → SpecialFunctionsChainRulesCoreExt\u001b[39m\n",
      "\u001b[32m  ✓ \u001b[39m\u001b[90mHDF5\u001b[39m\n",
      "\u001b[32m  ✓ \u001b[39m\u001b[90mLightGraphs\u001b[39m\n",
      "\u001b[32m  ✓ \u001b[39m\u001b[90mNDTensors\u001b[39m\n",
      "\u001b[32m  ✓ \u001b[39m\u001b[90mQXGraphDecompositions\u001b[39m\n",
      "\u001b[32m  ✓ \u001b[39m\u001b[90mCUDA\u001b[39m\n",
      "\u001b[32m  ✓ \u001b[39m\u001b[90mTensorOperations\u001b[39m\n",
      "\u001b[32m  ✓ \u001b[39m\u001b[90mOMEinsum\u001b[39m\n",
      "\u001b[32m  ✓ \u001b[39m\u001b[90mJLD2\u001b[39m\n",
      "\u001b[32m  ✓ \u001b[39m\u001b[90mQXZoo\u001b[39m\n",
      "\u001b[32m  ✓ \u001b[39m\u001b[90mITensors\u001b[39m\n",
      "\u001b[32m  ✓ \u001b[39m\u001b[90mQXContexts\u001b[39m\n",
      "\u001b[32m  ✓ \u001b[39m\u001b[90mQXTns\u001b[39m\n",
      "\u001b[32m  ✓ \u001b[39mQXTools\n",
      "  26 dependencies successfully precompiled in 242 seconds. 75 already precompiled.\n",
      "  \u001b[33m3\u001b[39m dependencies had warnings during precompilation:\u001b[33m\n",
      "┌ \u001b[39mOMEinsum [ebe7aa44-baf0-506c-a96f-8464559b3922]\u001b[33m\n",
      "│  \u001b[39mWARNING: method definition for _tovec at C:\\Users\\Usuario\\.julia\\packages\\OMEinsum\\0C2IK\\src\\Core.jl:94 declares type variable K but does not use it.\u001b[33m\n",
      "│  \u001b[39mWARNING: method definition for _tovec at C:\\Users\\Usuario\\.julia\\packages\\OMEinsum\\0C2IK\\src\\Core.jl:94 declares type variable N but does not use it.\u001b[33m\n",
      "│  \u001b[39mWARNING: method definition for duplicate at C:\\Users\\Usuario\\.julia\\packages\\OMEinsum\\0C2IK\\src\\unaryrules.jl:145 declares type variable T but does not use it.\u001b[33m\n",
      "│  \u001b[39mWARNING: method definition for duplicate at C:\\Users\\Usuario\\.julia\\packages\\OMEinsum\\0C2IK\\src\\unaryrules.jl:145 declares type variable Ny but does not use it.\u001b[33m\n",
      "│  \u001b[39mWARNING: method definition for duplicate at C:\\Users\\Usuario\\.julia\\packages\\OMEinsum\\0C2IK\\src\\unaryrules.jl:145 declares type variable Nx but does not use it.\u001b[33m\n",
      "└  \u001b[39m\u001b[33m\n",
      "┌ \u001b[39mNDTensors [23ae76d9-e61a-49c4-8f12-3f1a16adf9cf]\u001b[33m\n",
      "│  \u001b[39mWARNING: method definition for * at C:\\Users\\Usuario\\.julia\\packages\\NDTensors\\b7X2X\\src\\linearalgebra.jl:17 declares type variable IndsT2 but does not use it.\u001b[33m\n",
      "│  \u001b[39mWARNING: method definition for * at C:\\Users\\Usuario\\.julia\\packages\\NDTensors\\b7X2X\\src\\linearalgebra.jl:17 declares type variable IndsT1 but does not use it.\u001b[33m\n",
      "│  \u001b[39mWARNING: method definition for permutedims at C:\\Users\\Usuario\\.julia\\packages\\NDTensors\\b7X2X\\src\\diag.jl:322 declares type variable ElR but does not use it.\u001b[33m\n",
      "│  \u001b[39mWARNING: method definition for blockindex at C:\\Users\\Usuario\\.julia\\packages\\NDTensors\\b7X2X\\src\\blocksparse\\blockdims.jl:157 declares type variable ElT but does not use it.\u001b[33m\n",
      "│  \u001b[39mWARNING: method definition for Block at C:\\Users\\Usuario\\.julia\\packages\\NDTensors\\b7X2X\\src\\blocksparse\\block.jl:44 declares type variable N but does not use it.\u001b[33m\n",
      "│  \u001b[39mWARNING: method definition for convert at C:\\Users\\Usuario\\.julia\\packages\\NDTensors\\b7X2X\\src\\blocksparse\\block.jl:60 declares type variable N but does not use it.\u001b[33m\n",
      "│  \u001b[39mWARNING: method definition for Tensor at C:\\Users\\Usuario\\.julia\\packages\\NDTensors\\b7X2X\\src\\blocksparse\\blocksparsetensor.jl:65 declares type variable N but does not use it.\u001b[33m\n",
      "│  \u001b[39mWARNING: method definition for perm_block at C:\\Users\\Usuario\\.julia\\packages\\NDTensors\\b7X2X\\src\\blocksparse\\blocksparsetensor.jl:357 declares type variable N but does not use it.\u001b[33m\n",
      "│  \u001b[39mWARNING: method definition for permutedims at C:\\Users\\Usuario\\.julia\\packages\\NDTensors\\b7X2X\\src\\blocksparse\\diagblocksparse.jl:458 declares type variable ElR but does not use it.\u001b[33m\n",
      "└  \u001b[39m\u001b[33m\n",
      "┌ \u001b[39mITensors [9136182c-28ba-11e9-034c-db9fb085ebd5]\u001b[33m\n",
      "│  \u001b[39mWARNING: method definition for #intersect#53 at C:\\Users\\Usuario\\.julia\\packages\\ITensors\\Ligbx\\src\\indexset.jl:614 declares type variable N but does not use it.\u001b[33m\n",
      "└  \u001b[39m\n"
     ]
    }
   ],
   "source": [
    "] add QXTools "
   ]
  },
  {
   "cell_type": "code",
   "execution_count": 4,
   "id": "6d548545-f765-4903-9ea8-296ef51d4694",
   "metadata": {
    "collapsed": true,
    "jupyter": {
     "outputs_hidden": true
    },
    "tags": []
   },
   "outputs": [
    {
     "name": "stderr",
     "output_type": "stream",
     "text": [
      "\u001b[32m\u001b[1m   Resolving\u001b[22m\u001b[39m package versions...\n",
      "\u001b[32m\u001b[1m    Updating\u001b[22m\u001b[39m `C:\\Users\\Usuario\\OneDrive\\Escriptori\\anaconda_blogs\\agost_2023\\Novembre_desembre_2024\\GitHub_resum_article_Costa_Ballena\\QXTools\\Project.toml`\n",
      "  \u001b[90m[f27fdc93] \u001b[39m\u001b[92m+ QXZoo v1.0.0\u001b[39m\n",
      "\u001b[32m\u001b[1m  No Changes\u001b[22m\u001b[39m to `C:\\Users\\Usuario\\OneDrive\\Escriptori\\anaconda_blogs\\agost_2023\\Novembre_desembre_2024\\GitHub_resum_article_Costa_Ballena\\QXTools\\Manifest.toml`\n"
     ]
    }
   ],
   "source": [
    "] add QXZoo"
   ]
  },
  {
   "cell_type": "code",
   "execution_count": 5,
   "id": "c9b69857-3a28-4dce-8d55-4cd0b93b0d3b",
   "metadata": {
    "collapsed": true,
    "jupyter": {
     "outputs_hidden": true
    },
    "tags": []
   },
   "outputs": [
    {
     "name": "stderr",
     "output_type": "stream",
     "text": [
      "\u001b[32m\u001b[1m   Resolving\u001b[22m\u001b[39m package versions...\n",
      "\u001b[32m\u001b[1m    Updating\u001b[22m\u001b[39m `C:\\Users\\Usuario\\OneDrive\\Escriptori\\anaconda_blogs\\agost_2023\\Novembre_desembre_2024\\GitHub_resum_article_Costa_Ballena\\QXTools\\Project.toml`\n",
      "  \u001b[90m[b15f1ded] \u001b[39m\u001b[92m+ QXGraphDecompositions v1.0.0\u001b[39m\n",
      "\u001b[32m\u001b[1m  No Changes\u001b[22m\u001b[39m to `C:\\Users\\Usuario\\OneDrive\\Escriptori\\anaconda_blogs\\agost_2023\\Novembre_desembre_2024\\GitHub_resum_article_Costa_Ballena\\QXTools\\Manifest.toml`\n"
     ]
    }
   ],
   "source": [
    "] add QXGraphDecompositions"
   ]
  },
  {
   "cell_type": "code",
   "execution_count": 20,
   "id": "e1f41aff-5980-44fb-9a4e-a0c26f1e3f89",
   "metadata": {
    "collapsed": true,
    "jupyter": {
     "outputs_hidden": true
    },
    "tags": []
   },
   "outputs": [
    {
     "name": "stderr",
     "output_type": "stream",
     "text": [
      "\u001b[32m\u001b[1m   Resolving\u001b[22m\u001b[39m package versions...\n",
      "\u001b[32m\u001b[1m    Updating\u001b[22m\u001b[39m `C:\\Users\\Usuario\\OneDrive\\Escriptori\\anaconda_blogs\\agost_2023\\Novembre_desembre_2024\\GitHub_resum_article_Costa_Ballena\\QXTools\\Project.toml`\n",
      "  \u001b[90m[093fc24a] \u001b[39m\u001b[92m+ LightGraphs v1.3.5\u001b[39m\n",
      "\u001b[32m\u001b[1m  No Changes\u001b[22m\u001b[39m to `C:\\Users\\Usuario\\OneDrive\\Escriptori\\anaconda_blogs\\agost_2023\\Novembre_desembre_2024\\GitHub_resum_article_Costa_Ballena\\QXTools\\Manifest.toml`\n"
     ]
    }
   ],
   "source": [
    "import Pkg; Pkg.add(\"LightGraphs\")"
   ]
  },
  {
   "cell_type": "code",
   "execution_count": 26,
   "id": "0085df16-40c6-4dd2-bcab-02df47b0fdfd",
   "metadata": {
    "collapsed": true,
    "jupyter": {
     "outputs_hidden": true
    },
    "tags": []
   },
   "outputs": [
    {
     "name": "stderr",
     "output_type": "stream",
     "text": [
      "\u001b[32m\u001b[1m   Resolving\u001b[22m\u001b[39m package versions...\n",
      "\u001b[32m\u001b[1m    Updating\u001b[22m\u001b[39m `C:\\Users\\Usuario\\OneDrive\\Escriptori\\anaconda_blogs\\agost_2023\\Novembre_desembre_2024\\GitHub_resum_article_Costa_Ballena\\QXTools\\Project.toml`\n",
      "  \u001b[90m[864edb3b] \u001b[39m\u001b[92m+ DataStructures v0.18.20\u001b[39m\n",
      "\u001b[32m\u001b[1m  No Changes\u001b[22m\u001b[39m to `C:\\Users\\Usuario\\OneDrive\\Escriptori\\anaconda_blogs\\agost_2023\\Novembre_desembre_2024\\GitHub_resum_article_Costa_Ballena\\QXTools\\Manifest.toml`\n"
     ]
    }
   ],
   "source": [
    "import Pkg; Pkg.add(\"DataStructures\")"
   ]
  },
  {
   "cell_type": "code",
   "execution_count": 78,
   "id": "0efd2bd8-d2d6-47c2-a2ea-532f2e1796a7",
   "metadata": {
    "collapsed": true,
    "jupyter": {
     "outputs_hidden": true
    },
    "tags": []
   },
   "outputs": [
    {
     "name": "stderr",
     "output_type": "stream",
     "text": [
      "\u001b[32m\u001b[1m   Resolving\u001b[22m\u001b[39m package versions...\n",
      "\u001b[32m\u001b[1m    Updating\u001b[22m\u001b[39m `C:\\Users\\Usuario\\OneDrive\\Escriptori\\anaconda_blogs\\agost_2023\\Novembre_desembre_2024\\GitHub_resum_article_Costa_Ballena\\QXTools\\Project.toml`\n",
      "  \u001b[90m[995e1dad] \u001b[39m\u001b[92m+ QXTns v1.0.0\u001b[39m\n",
      "\u001b[32m\u001b[1m  No Changes\u001b[22m\u001b[39m to `C:\\Users\\Usuario\\OneDrive\\Escriptori\\anaconda_blogs\\agost_2023\\Novembre_desembre_2024\\GitHub_resum_article_Costa_Ballena\\QXTools\\Manifest.toml`\n"
     ]
    }
   ],
   "source": [
    "import Pkg; Pkg.add(\"QXTns\")"
   ]
  },
  {
   "cell_type": "code",
   "execution_count": 83,
   "id": "9749bd90-6a62-4e7b-991b-513dec0ff8a5",
   "metadata": {
    "collapsed": true,
    "jupyter": {
     "outputs_hidden": true
    },
    "tags": []
   },
   "outputs": [
    {
     "name": "stderr",
     "output_type": "stream",
     "text": [
      "\u001b[32m\u001b[1m   Resolving\u001b[22m\u001b[39m package versions...\n",
      "\u001b[32m\u001b[1m    Updating\u001b[22m\u001b[39m `C:\\Users\\Usuario\\OneDrive\\Escriptori\\anaconda_blogs\\agost_2023\\Novembre_desembre_2024\\GitHub_resum_article_Costa_Ballena\\QXTools\\Project.toml`\n",
      "\u001b[33m⌅\u001b[39m \u001b[90m[23ae76d9] \u001b[39m\u001b[92m+ NDTensors v0.1.28\u001b[39m\n",
      "\u001b[32m\u001b[1m  No Changes\u001b[22m\u001b[39m to `C:\\Users\\Usuario\\OneDrive\\Escriptori\\anaconda_blogs\\agost_2023\\Novembre_desembre_2024\\GitHub_resum_article_Costa_Ballena\\QXTools\\Manifest.toml`\n"
     ]
    }
   ],
   "source": [
    "import Pkg; Pkg.add(\"NDTensors\")"
   ]
  },
  {
   "cell_type": "code",
   "execution_count": 88,
   "id": "92512ca1-45bf-4a46-8420-0f4ba8cd8de0",
   "metadata": {
    "collapsed": true,
    "jupyter": {
     "outputs_hidden": true
    },
    "tags": []
   },
   "outputs": [
    {
     "name": "stderr",
     "output_type": "stream",
     "text": [
      "\u001b[32m\u001b[1m   Resolving\u001b[22m\u001b[39m package versions...\n",
      "\u001b[32m\u001b[1m    Updating\u001b[22m\u001b[39m `C:\\Users\\Usuario\\OneDrive\\Escriptori\\anaconda_blogs\\agost_2023\\Novembre_desembre_2024\\GitHub_resum_article_Costa_Ballena\\QXTools\\Project.toml`\n",
      "\u001b[33m⌅\u001b[39m \u001b[90m[9136182c] \u001b[39m\u001b[92m+ ITensors v0.1.41\u001b[39m\n",
      "\u001b[32m\u001b[1m  No Changes\u001b[22m\u001b[39m to `C:\\Users\\Usuario\\OneDrive\\Escriptori\\anaconda_blogs\\agost_2023\\Novembre_desembre_2024\\GitHub_resum_article_Costa_Ballena\\QXTools\\Manifest.toml`\n"
     ]
    }
   ],
   "source": [
    "import Pkg; Pkg.add(\"ITensors\")"
   ]
  },
  {
   "cell_type": "code",
   "execution_count": 2,
   "id": "20ce2d5e-2f16-41f8-96a6-7633e939e690",
   "metadata": {
    "tags": []
   },
   "outputs": [
    {
     "name": "stderr",
     "output_type": "stream",
     "text": [
      "WARNING: method definition for asarray at C:\\Users\\Usuario\\.julia\\packages\\OMEinsum\\0C2IK\\src\\cueinsum.jl:8 declares type variable T but does not use it.\n",
      "WARNING: method definition for expanddims! at C:\\Users\\Usuario\\.julia\\packages\\OMEinsum\\0C2IK\\src\\cueinsum.jl:67 declares type variable LT but does not use it.\n",
      "\u001b[36m\u001b[1m[ \u001b[22m\u001b[39m\u001b[36m\u001b[1mInfo: \u001b[22m\u001b[39mOMEinsum loaded the CUDA module successfully\n"
     ]
    }
   ],
   "source": [
    "using QXTools;\n",
    "using QXTns;\n",
    "using QXZoo;\n",
    "using PyCall;\n",
    "using QXGraphDecompositions\n",
    "using LightGraphs\n",
    "using DataStructures\n",
    "using PyCall\n",
    "using TimerOutputs\n",
    "using ITensors\n",
    "using LinearAlgebra\n",
    "using NDTensors"
   ]
  },
  {
   "cell_type": "code",
   "execution_count": 20,
   "id": "dd7c0240-4457-4d75-b5d6-31b4812f52bb",
   "metadata": {
    "tags": []
   },
   "outputs": [
    {
     "data": {
      "text/plain": [
       "ComParCPU_para (generic function with 1 method)"
      ]
     },
     "execution_count": 20,
     "metadata": {},
     "output_type": "execute_result"
    }
   ],
   "source": [
    "include(\"funcions_article.jl\")"
   ]
  },
  {
   "cell_type": "markdown",
   "id": "818141fa-cb89-4a59-872d-58da66048154",
   "metadata": {},
   "source": [
    "### 1. QFT circuits. Creation"
   ]
  },
  {
   "cell_type": "code",
   "execution_count": 4,
   "id": "3054311e-c00f-41b5-98b0-e022103102f4",
   "metadata": {
    "tags": []
   },
   "outputs": [
    {
     "name": "stderr",
     "output_type": "stream",
     "text": [
      "\u001b[36m\u001b[1m┌ \u001b[22m\u001b[39m\u001b[36m\u001b[1mInfo: \u001b[22m\u001b[39mQuants qubits vols que proven en els algorismes per a QFT(n)? \n",
      "\u001b[36m\u001b[1m└ \u001b[22m\u001b[39m\n",
      "\u001b[36m\u001b[1m┌ \u001b[22m\u001b[39m\u001b[36m\u001b[1mInfo: \u001b[22m\u001b[39mHow many qubits do you want for the circuit(n)?\n",
      "\u001b[36m\u001b[1m└ \u001b[22m\u001b[39m\n"
     ]
    },
    {
     "name": "stdin",
     "output_type": "stream",
     "text": [
      "stdin>  10\n"
     ]
    },
    {
     "name": "stdout",
     "output_type": "stream",
     "text": [
      "El circuit QFT constituit és de 10 bits\n"
     ]
    }
   ],
   "source": [
    "@info(\"Quants qubits vols que proven en els algorismes per a QFT(n)? \\n\\n\")\n",
    "@info(\"How many qubits do you want for the circuit(n)?\\n\\n\")\n",
    "\n",
    "# Calling rdeadline() function\n",
    "N = readline()\n",
    "n = parse(Int64, N)\n",
    "# Creacio del circuit\n",
    "\n",
    "println(\"El circuit QFT constituit és de $n bits\")\n",
    "cct=create_qft_circuit_bis(n);\n",
    "\n",
    "\n"
   ]
  },
  {
   "cell_type": "code",
   "execution_count": 5,
   "id": "066b6551-2ddf-44a6-ab10-84924d6741cd",
   "metadata": {
    "tags": []
   },
   "outputs": [
    {
     "data": {
      "text/plain": [
       "TensorNetworkCircuit(qubits => 10, gates => 134)"
      ]
     },
     "execution_count": 5,
     "metadata": {},
     "output_type": "execute_result"
    }
   ],
   "source": [
    " tnc= convert_to_tnc(cct)"
   ]
  },
  {
   "cell_type": "code",
   "execution_count": 7,
   "id": "a5a221d9-725c-4846-84d6-3cc158f443ba",
   "metadata": {
    "tags": []
   },
   "outputs": [
    {
     "name": "stdout",
     "output_type": "stream",
     "text": [
      "\u001b[0m\u001b[1m────────────────────────────────────────────────────────────────────────────────\u001b[22m\n",
      "\u001b[0m\u001b[1m                              \u001b[22m         Time                    Allocations      \n",
      "                              ───────────────────────   ────────────────────────\n",
      "      Tot / % measured:            28.6s /  98.4%           1.44GiB /  98.7%    \n",
      "\n",
      "Section               ncalls     time    %tot     avg     alloc    %tot      avg\n",
      "────────────────────────────────────────────────────────────────────────────────\n",
      " 3T.Final contract...      1    25.2s   89.6%   25.2s   1.40GiB   97.9%  1.40GiB\n",
      " 2T.Getting GN plan        1    2.61s    9.3%   2.61s   20.5MiB    1.4%  20.5MiB\n",
      " 1T.Obtaining a li...      1    319ms    1.1%   319ms   9.59MiB    0.7%  9.59MiB\n",
      "\u001b[0m\u001b[1m────────────────────────────────────────────────────────────────────────────────\u001b[22m\n"
     ]
    },
    {
     "data": {
      "text/plain": [
       "0-dimensional Array{ComplexF64, 0}:\n",
       "0.031249999999999518 + 8.48000172424638e-18im"
      ]
     },
     "execution_count": 7,
     "metadata": {},
     "output_type": "execute_result"
    }
   ],
   "source": [
    "s1=Calcul_GN_Sequencial(cct,true) # input qubits are 0"
   ]
  },
  {
   "cell_type": "code",
   "execution_count": 8,
   "id": "c1efa496-fc8a-44c0-b694-0e0c6ae827b4",
   "metadata": {
    "tags": []
   },
   "outputs": [
    {
     "name": "stdout",
     "output_type": "stream",
     "text": [
      "\u001b[0m\u001b[1m────────────────────────────────────────────────────────────────────────────────\u001b[22m\n",
      "\u001b[0m\u001b[1m                              \u001b[22m         Time                    Allocations      \n",
      "                              ───────────────────────   ────────────────────────\n",
      "      Tot / % measured:            650ms / 100.0%           52.7MiB / 100.0%    \n",
      "\n",
      "Section               ncalls     time    %tot     avg     alloc    %tot      avg\n",
      "────────────────────────────────────────────────────────────────────────────────\n",
      " 3T.Final contract...      1    469ms   72.1%   469ms   49.3MiB   93.7%  49.3MiB\n",
      " 2T.Getting GN plan        1    163ms   25.1%   163ms   1.37MiB    2.6%  1.37MiB\n",
      " 1T.Obtaining a li...      1   18.2ms    2.8%  18.2ms   1.97MiB    3.7%  1.97MiB\n",
      "\u001b[0m\u001b[1m────────────────────────────────────────────────────────────────────────────────\u001b[22m\n"
     ]
    },
    {
     "data": {
      "text/plain": [
       "0-dimensional Array{ComplexF64, 0}:\n",
       "0.031249999999999518 + 8.48000172424638e-18im"
      ]
     },
     "execution_count": 8,
     "metadata": {},
     "output_type": "execute_result"
    }
   ],
   "source": [
    "s1=Calcul_GN_Sequencial(cct,true) # input qubits are 0"
   ]
  },
  {
   "cell_type": "markdown",
   "id": "f9ee83c2-4e2e-4f29-81b8-0acff95e2a75",
   "metadata": {},
   "source": [
    "**Important Note: If we want to obtain correct times to make comparisons, we must execute at least twice each command or function**"
   ]
  },
  {
   "cell_type": "markdown",
   "id": "9e136053-39e7-4e10-ad42-655800c3cedb",
   "metadata": {
    "tags": []
   },
   "source": [
    "### Let's compare the solutions with another plan used in QXTools  "
   ]
  },
  {
   "cell_type": "code",
   "execution_count": 9,
   "id": "54e58719-f51a-4e20-b194-01cf862605f5",
   "metadata": {
    "tags": []
   },
   "outputs": [
    {
     "name": "stdout",
     "output_type": "stream",
     "text": [
      "QXTools.single_amplitude(tnc, plan, \"0000000000\") = 0.03124999999999952 + 1.629691390517249e-17im\n",
      "QXTools.single_amplitude(tnc, plan, \"1111111111\") = 0.03124999999999916 + 3.4220131069072667e-18im\n",
      "QXTools.single_amplitude(tnc, plan, \"1001001010\") = 0.03124999999999937 + 1.1472214237612007e-17im\n"
     ]
    },
    {
     "data": {
      "text/plain": [
       "0.03124999999999937 + 1.1472214237612007e-17im"
      ]
     },
     "execution_count": 9,
     "metadata": {},
     "output_type": "execute_result"
    }
   ],
   "source": [
    "using QXTools\n",
    "using QXTools.Circuits\n",
    "\n",
    "# Create ghz circuit\n",
    "#circ = create_ghz_circuit(3)\n",
    "\n",
    "# Convert the circuit to a tensor network circuit\n",
    "#tnc = convert_to_tnc(circ)\n",
    "\n",
    "# Find a good contraction plan\n",
    "plan = flow_cutter_contraction_plan(tnc; time=10)\n",
    "\n",
    "# Contract the network using this plan to find the given amplitude for different outputs\n",
    "@show QXTools.single_amplitude(tnc, plan, \"0000000000\")\n",
    "@show QXTools.single_amplitude(tnc, plan, \"1111111111\")\n",
    "@show QXTools.single_amplitude(tnc, plan, \"1001001010\")"
   ]
  },
  {
   "cell_type": "code",
   "execution_count": 10,
   "id": "f97490b0-178b-4de4-baf0-ab493457dab2",
   "metadata": {
    "tags": []
   },
   "outputs": [
    {
     "data": {
      "text/plain": [
       "0-dimensional Array{ComplexF64, 0}:\n",
       "0.03124999999999952 + 1.629691390517249e-17im"
      ]
     },
     "execution_count": 10,
     "metadata": {},
     "output_type": "execute_result"
    }
   ],
   "source": [
    " s=contract_tn!(tnc.tn, plan)"
   ]
  },
  {
   "cell_type": "code",
   "execution_count": 11,
   "id": "3bd0dfc7-f60b-4131-b6ca-8451dd482b24",
   "metadata": {
    "tags": []
   },
   "outputs": [
    {
     "data": {
      "text/plain": [
       "true"
      ]
     },
     "execution_count": 11,
     "metadata": {},
     "output_type": "execute_result"
    }
   ],
   "source": [
    "s1 ≈ s # Let's compare the two solutions "
   ]
  },
  {
   "cell_type": "markdown",
   "id": "7a8aae88-6e77-4084-bd95-d75ab51e67cf",
   "metadata": {},
   "source": [
    "### ComPar"
   ]
  },
  {
   "cell_type": "code",
   "execution_count": 13,
   "id": "29f077a7-8a56-4d43-994d-3e6c3ec764c4",
   "metadata": {
    "tags": []
   },
   "outputs": [
    {
     "data": {
      "text/plain": [
       "TensorNetworkCircuit(qubits => 10, gates => 134)"
      ]
     },
     "execution_count": 13,
     "metadata": {},
     "output_type": "execute_result"
    }
   ],
   "source": [
    "tnc= convert_to_tnc(cct)"
   ]
  },
  {
   "cell_type": "code",
   "execution_count": 17,
   "id": "7dfb58ea-b76d-4ee7-82b9-a8dc4e3231d3",
   "metadata": {
    "tags": []
   },
   "outputs": [
    {
     "data": {
      "text/plain": [
       "8"
      ]
     },
     "execution_count": 17,
     "metadata": {},
     "output_type": "execute_result"
    }
   ],
   "source": [
    "begin\n",
    "\n",
    "num_qubits = cct.num_qubits \n",
    "       eixida_1= \"0\"^num_qubits # we choose the output in order to evaluate its probability\n",
    "       eixida_2 =\"1\"^num_qubits\n",
    "       eixida_3 = \"1\"^(num_qubits-2)*\"01\"\n",
    "\n",
    "       entrada =\"0\"^num_qubits # Imput is zero as a convention\n",
    "       eixida  = eixida_1 # eixida means input in catalan lenguage. you can test more output (eixida_2,eixida_3,..), if you want.\n",
    "       n_com=8         # This choice is crucial because \n",
    "                       #it will fix the number of communities that we will use in the first contraction of our algorithm\n",
    "    \n",
    "       \n",
    "\n",
    "       end"
   ]
  },
  {
   "cell_type": "code",
   "execution_count": 18,
   "id": "2763f8c2-1f3a-4e4d-8a65-41ba8058f266",
   "metadata": {
    "tags": []
   },
   "outputs": [
    {
     "name": "stdout",
     "output_type": "stream",
     "text": [
      "\u001b[0m\u001b[1m────────────────────────────────────────────────────────────────────────────────\u001b[22m\n",
      "\u001b[0m\u001b[1m                              \u001b[22m         Time                    Allocations      \n",
      "                              ───────────────────────   ────────────────────────\n",
      "      Tot / % measured:            1.55s / 100.0%           77.2MiB / 100.0%    \n",
      "\n",
      "Section               ncalls     time    %tot     avg     alloc    %tot      avg\n",
      "────────────────────────────────────────────────────────────────────────────────\n",
      "2T.Parallel contra...      1    749ms   48.4%   749ms   44.9MiB   58.1%  44.9MiB\n",
      "1T.Obtaining Commu...      1    539ms   34.8%   539ms   19.3MiB   24.9%  19.3MiB\n",
      "3T.Final contraction       1    259ms   16.8%   259ms   13.1MiB   17.0%  13.1MiB\n",
      "\u001b[0m\u001b[1m────────────────────────────────────────────────────────────────────────────────\u001b[22m\n"
     ]
    },
    {
     "data": {
      "text/plain": [
       "0-dimensional Array{ComplexF64, 0}:\n",
       "0.031249999999999518 + 8.48000172424638e-18im"
      ]
     },
     "execution_count": 18,
     "metadata": {},
     "output_type": "execute_result"
    }
   ],
   "source": [
    "s=ComParCPU(cct,entrada,eixida,n_com;timings=true,decompose=true)"
   ]
  },
  {
   "cell_type": "code",
   "execution_count": 19,
   "id": "58f1e2ec-7d18-4a41-906f-4a29861c8c17",
   "metadata": {
    "tags": []
   },
   "outputs": [
    {
     "name": "stdout",
     "output_type": "stream",
     "text": [
      "\u001b[0m\u001b[1m────────────────────────────────────────────────────────────────────────────────\u001b[22m\n",
      "\u001b[0m\u001b[1m                              \u001b[22m         Time                    Allocations      \n",
      "                              ───────────────────────   ────────────────────────\n",
      "      Tot / % measured:            215ms / 100.0%           34.7MiB / 100.0%    \n",
      "\n",
      "Section               ncalls     time    %tot     avg     alloc    %tot      avg\n",
      "────────────────────────────────────────────────────────────────────────────────\n",
      "2T.Parallel contra...      1    143ms   66.6%   143ms   28.3MiB   81.5%  28.3MiB\n",
      "1T.Obtaining Commu...      1   49.2ms   22.9%  49.2ms   2.04MiB    5.9%  2.04MiB\n",
      "3T.Final contraction       1   22.5ms   10.5%  22.5ms   4.38MiB   12.6%  4.38MiB\n",
      "\u001b[0m\u001b[1m────────────────────────────────────────────────────────────────────────────────\u001b[22m\n"
     ]
    },
    {
     "data": {
      "text/plain": [
       "0-dimensional Array{ComplexF64, 0}:\n",
       "0.031249999999999518 + 8.48000172424638e-18im"
      ]
     },
     "execution_count": 19,
     "metadata": {},
     "output_type": "execute_result"
    }
   ],
   "source": [
    "s=ComParCPU(cct,entrada,eixida,n_com;timings=true,decompose=true)"
   ]
  },
  {
   "cell_type": "markdown",
   "id": "4fdae0d6-713b-4a8f-9d1a-d21429114fab",
   "metadata": {},
   "source": [
    "### ComPar using a final contraction in parallel"
   ]
  },
  {
   "cell_type": "markdown",
   "id": "5bed778f-2286-4cb9-af9e-3e1fa29f2b30",
   "metadata": {},
   "source": [
    "En aquesta secció mostrarem l'algoritme en tres fasses amb una lleugerà modificació que ens permetrà usar un cert paral·lelisme en la contracció final o tercera fasse.\n",
    "\n",
    "*In this section we show our algorithm in 3 phases described in the paper with a modification in the final contraction or phase 3, where we can parallelize the last contraction.* "
   ]
  },
  {
   "cell_type": "code",
   "execution_count": 22,
   "id": "75f4f339-4134-4ce6-b90c-987ab4db4557",
   "metadata": {
    "tags": []
   },
   "outputs": [
    {
     "data": {
      "text/plain": [
       "TensorNetworkCircuit(qubits => 10, gates => 134)"
      ]
     },
     "execution_count": 22,
     "metadata": {},
     "output_type": "execute_result"
    }
   ],
   "source": [
    "tnc= convert_to_tnc(cct)"
   ]
  },
  {
   "cell_type": "code",
   "execution_count": 25,
   "id": "26c393d0-8dce-4828-91aa-4d34fd80fee1",
   "metadata": {
    "tags": []
   },
   "outputs": [
    {
     "name": "stdout",
     "output_type": "stream",
     "text": [
      "\u001b[0m\u001b[1m────────────────────────────────────────────────────────────────────────────────\u001b[22m\n",
      "\u001b[0m\u001b[1m                              \u001b[22m         Time                    Allocations      \n",
      "                              ───────────────────────   ────────────────────────\n",
      "      Tot / % measured:            222ms / 100.0%           34.8MiB / 100.0%    \n",
      "\n",
      "Section               ncalls     time    %tot     avg     alloc    %tot      avg\n",
      "────────────────────────────────────────────────────────────────────────────────\n",
      "2T.Parallel contra...      1    155ms   70.1%   155ms   28.3MiB   81.3%  28.3MiB\n",
      "1T.Obtaining Commu...      1   48.2ms   21.8%  48.2ms   2.05MiB    5.9%  2.05MiB\n",
      "3T.Final contracti...      1   17.9ms    8.1%  17.9ms   4.44MiB   12.8%  4.44MiB\n",
      "\u001b[0m\u001b[1m────────────────────────────────────────────────────────────────────────────────\u001b[22m\n"
     ]
    },
    {
     "data": {
      "text/plain": [
       "0-dimensional Array{ComplexF64, 0}:\n",
       "0.031249999999999518 + 8.48000172424638e-18im"
      ]
     },
     "execution_count": 25,
     "metadata": {},
     "output_type": "execute_result"
    }
   ],
   "source": [
    "s=ComParCPU_para(cct,entrada,eixida,n_com;timings=true,decompose=true)"
   ]
  },
  {
   "cell_type": "code",
   "execution_count": 26,
   "id": "c9c42a4b-8952-417c-8d00-baee818df10b",
   "metadata": {
    "tags": []
   },
   "outputs": [
    {
     "name": "stdout",
     "output_type": "stream",
     "text": [
      "\u001b[0m\u001b[1m────────────────────────────────────────────────────────────────────────────────\u001b[22m\n",
      "\u001b[0m\u001b[1m                              \u001b[22m         Time                    Allocations      \n",
      "                              ───────────────────────   ────────────────────────\n",
      "      Tot / % measured:            220ms / 100.0%           34.8MiB / 100.0%    \n",
      "\n",
      "Section               ncalls     time    %tot     avg     alloc    %tot      avg\n",
      "────────────────────────────────────────────────────────────────────────────────\n",
      "2T.Parallel contra...      1    152ms   68.8%   152ms   28.3MiB   81.3%  28.3MiB\n",
      "1T.Obtaining Commu...      1   50.5ms   22.9%  50.5ms   2.05MiB    5.9%  2.05MiB\n",
      "3T.Final contracti...      1   18.2ms    8.3%  18.2ms   4.44MiB   12.8%  4.44MiB\n",
      "\u001b[0m\u001b[1m────────────────────────────────────────────────────────────────────────────────\u001b[22m\n"
     ]
    },
    {
     "data": {
      "text/plain": [
       "0-dimensional Array{ComplexF64, 0}:\n",
       "0.031249999999999518 + 8.48000172424638e-18im"
      ]
     },
     "execution_count": 26,
     "metadata": {},
     "output_type": "execute_result"
    }
   ],
   "source": [
    "s=ComParCPU_para(cct,entrada,eixida,n_com;timings=true,decompose=true)"
   ]
  },
  {
   "cell_type": "code",
   "execution_count": null,
   "id": "dd3edcd8-5b6b-4997-b91f-1115a2c3612a",
   "metadata": {},
   "outputs": [],
   "source": []
  }
 ],
 "metadata": {
  "kernelspec": {
   "display_name": "Julia 12 Threads 1.9.2",
   "language": "julia",
   "name": "julia-12-threads-1.9"
  },
  "language_info": {
   "file_extension": ".jl",
   "mimetype": "application/julia",
   "name": "julia",
   "version": "1.9.2"
  }
 },
 "nbformat": 4,
 "nbformat_minor": 5
}
